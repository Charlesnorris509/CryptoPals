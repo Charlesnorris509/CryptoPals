{
 "cells": [
  {
   "cell_type": "code",
   "execution_count": 1,
   "metadata": {},
   "outputs": [
    {
     "name": "stdout",
     "output_type": "stream",
     "text": [
      "746865206b696420646f6e277420706c6179\n"
     ]
    }
   ],
   "source": [
    "def xor_buffers(buffer1, buffer2):\n",
    "    if len(buffer1) != len(buffer2):\n",
    "        raise ValueError(\"Buffers must have equal length\")\n",
    "    \n",
    "    xor_result = bytearray(len(buffer1))\n",
    "    \n",
    "    for i in range(len(buffer1)):\n",
    "        xor_result[i] = buffer1[i] ^ buffer2[i]\n",
    "    \n",
    "    return xor_result\n",
    "\n",
    "\n",
    "def hex_to_bytes(hex_string):\n",
    "    # Remove any leading \"0x\" or \"0X\" characters and whitespace\n",
    "    hex_string = hex_string.replace(\"0x\", \"\").replace(\"0X\", \"\").replace(\" \", \"\")\n",
    "    \n",
    "    # Ensure the hex string has an even number of characters\n",
    "    if len(hex_string) % 2 != 0:\n",
    "        raise ValueError(\"Invalid hex string length\")\n",
    "    \n",
    "    # Convert each pair of characters to a byte value\n",
    "    byte_list = [int(hex_string[i:i+2], 16) for i in range(0, len(hex_string), 2)]\n",
    "    \n",
    "    return bytearray(byte_list)\n",
    "\n",
    "\n",
    "def bytes_to_hex(byte_array):\n",
    "    hex_string = ''.join(format(byte, '02x') for byte in byte_array)\n",
    "    return hex_string\n",
    "\n",
    "\n",
    "def xor_hex_strings(hex_string1, hex_string2):\n",
    "    buffer1 = hex_to_bytes(hex_string1)\n",
    "    buffer2 = hex_to_bytes(hex_string2)\n",
    "    \n",
    "    xor_result = xor_buffers(buffer1, buffer2)\n",
    "    \n",
    "    return bytes_to_hex(xor_result)\n",
    "\n",
    "hex_string1 = \"1c0111001f010100061a024b53535009181c\"\n",
    "hex_string2 = \"686974207468652062756c6c277320657965\"\n",
    "\n",
    "result = xor_hex_strings(hex_string1, hex_string2)\n",
    "print(result)"
   ]
  },
  {
   "cell_type": "code",
   "execution_count": null,
   "metadata": {},
   "outputs": [],
   "source": []
  }
 ],
 "metadata": {
  "kernelspec": {
   "display_name": "Python 3",
   "language": "python",
   "name": "python3"
  },
  "language_info": {
   "codemirror_mode": {
    "name": "ipython",
    "version": 3
   },
   "file_extension": ".py",
   "mimetype": "text/x-python",
   "name": "python",
   "nbconvert_exporter": "python",
   "pygments_lexer": "ipython3",
   "version": "3.8.5"
  }
 },
 "nbformat": 4,
 "nbformat_minor": 4
}
