{
 "cells": [
  {
   "cell_type": "code",
   "execution_count": 2,
   "metadata": {},
   "outputs": [
    {
     "name": "stdout",
     "output_type": "stream",
     "text": [
      "YELLOW SUBMARINE\u0004\u0004\u0004\u0004\n"
     ]
    }
   ],
   "source": [
    "def pkcs7_padding(block, block_length):\n",
    "    padding_length = block_length - len(block) % block_length\n",
    "    padding = bytes([padding_length] * padding_length)\n",
    "    return block + padding\n",
    "\n",
    "# Example usage\n",
    "plaintext = \"YELLOW SUBMARINE\"\n",
    "block_length = 20\n",
    "\n",
    "padded_block = pkcs7_padding(plaintext.encode(), block_length)\n",
    "print(padded_block.decode())"
   ]
  },
  {
   "cell_type": "code",
   "execution_count": null,
   "metadata": {},
   "outputs": [],
   "source": []
  }
 ],
 "metadata": {
  "kernelspec": {
   "display_name": "Python 3",
   "language": "python",
   "name": "python3"
  },
  "language_info": {
   "codemirror_mode": {
    "name": "ipython",
    "version": 3
   },
   "file_extension": ".py",
   "mimetype": "text/x-python",
   "name": "python",
   "nbconvert_exporter": "python",
   "pygments_lexer": "ipython3",
   "version": "3.8.5"
  }
 },
 "nbformat": 4,
 "nbformat_minor": 4
}
