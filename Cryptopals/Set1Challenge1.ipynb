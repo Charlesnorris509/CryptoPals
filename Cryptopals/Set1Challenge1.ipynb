{
 "cells": [
  {
   "cell_type": "code",
   "execution_count": 3,
   "metadata": {},
   "outputs": [
    {
     "name": "stdout",
     "output_type": "stream",
     "text": [
      "49276d206b696c6c696e6720796f757220627261696e206c696b65206120706f69736f6e6f7573206d757368726f6f6d\n",
      "\n",
      "\n",
      "SSdtIGtpbGxpbmcgeW91ciBicmFpbiBsaWtlIGEgcG9pc29ub3VzIG11c2hyb29t\n"
     ]
    }
   ],
   "source": [
    "#Cryptopals Challenge #1 \n",
    "# Convert hex to base64\n",
    "\n",
    "import base64\n",
    "\n",
    "def hex_to_base64(hex_string):\n",
    "    # Convert hexadecimal string to bytes\n",
    "    data = bytes.fromhex(hex_string)\n",
    "    # Encode bytes to base64\n",
    "    base64_data = base64.b64encode(data)\n",
    "    # Convert base64 bytes to string\n",
    "    base64_string = base64_data.decode('utf-8')\n",
    "    return base64_string\n",
    "\n",
    "hex_string = input()\n",
    "base64_string = hex_to_base64(hex_string)\n",
    "print('\\n')\n",
    "print(base64_string)"
   ]
  }
 ],
 "metadata": {
  "kernelspec": {
   "display_name": "Python 3",
   "language": "python",
   "name": "python3"
  },
  "language_info": {
   "codemirror_mode": {
    "name": "ipython",
    "version": 3
   },
   "file_extension": ".py",
   "mimetype": "text/x-python",
   "name": "python",
   "nbconvert_exporter": "python",
   "pygments_lexer": "ipython3",
   "version": "3.8.5"
  }
 },
 "nbformat": 4,
 "nbformat_minor": 4
}
