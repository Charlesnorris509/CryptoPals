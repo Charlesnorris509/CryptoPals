{
 "cells": [
  {
   "cell_type": "code",
   "execution_count": 1,
   "metadata": {},
   "outputs": [
    {
     "name": "stdout",
     "output_type": "stream",
     "text": [
      "Key: X\n",
      "Plaintext: Cooking MC's like a pound of bacon\n"
     ]
    }
   ],
   "source": [
    "import string\n",
    "\n",
    "def score_plaintext(plaintext):\n",
    "    # Define character frequencies for English language\n",
    "    # You can adjust these frequencies based on your preference or specific text data\n",
    "    char_frequencies = {\n",
    "        'a': 8.167, 'b': 1.492, 'c': 2.782, 'd': 4.253, 'e': 12.702, 'f': 2.228,\n",
    "        'g': 2.015, 'h': 6.094, 'i': 6.966, 'j': 0.153, 'k': 0.772, 'l': 4.025,\n",
    "        'm': 2.406, 'n': 6.749, 'o': 7.507, 'p': 1.929, 'q': 0.095, 'r': 5.987,\n",
    "        's': 6.327, 't': 9.056, 'u': 2.758, 'v': 0.978, 'w': 2.360, 'x': 0.150,\n",
    "        'y': 1.974, 'z': 0.074, ' ': 15  # Consider space as the most frequent character\n",
    "    }\n",
    "\n",
    "    score = 0\n",
    "\n",
    "    for char in plaintext.lower():\n",
    "        if char in char_frequencies:\n",
    "            score += char_frequencies[char]\n",
    "    \n",
    "    return score\n",
    "\n",
    "\n",
    "def single_byte_xor(ciphertext, key):\n",
    "    key = ord(key)  # Convert the key character to its ASCII value\n",
    "    \n",
    "    plaintext = bytearray(len(ciphertext))\n",
    "    \n",
    "    for i in range(len(ciphertext)):\n",
    "        plaintext[i] = ciphertext[i] ^ key\n",
    "    \n",
    "    return plaintext.decode()\n",
    "\n",
    "\n",
    "def find_best_plaintext(ciphertext):\n",
    "    best_score = 0\n",
    "    best_plaintext = ''\n",
    "    best_key = ''\n",
    "\n",
    "    for key in string.printable:\n",
    "        plaintext = single_byte_xor(ciphertext, key)\n",
    "        score = score_plaintext(plaintext)\n",
    "\n",
    "        if score > best_score:\n",
    "            best_score = score\n",
    "            best_plaintext = plaintext\n",
    "            best_key = key\n",
    "    \n",
    "    return best_key, best_plaintext\n",
    "\n",
    "\n",
    "ciphertext = \"1b37373331363f78151b7f2b783431333d78397828372d363c78373e783a393b3736\"\n",
    "\n",
    "key, plaintext = find_best_plaintext(bytes.fromhex(ciphertext))\n",
    "print(\"Key:\", key)\n",
    "print(\"Plaintext:\", plaintext)"
   ]
  },
  {
   "cell_type": "code",
   "execution_count": null,
   "metadata": {},
   "outputs": [],
   "source": []
  }
 ],
 "metadata": {
  "kernelspec": {
   "display_name": "Python 3",
   "language": "python",
   "name": "python3"
  },
  "language_info": {
   "codemirror_mode": {
    "name": "ipython",
    "version": 3
   },
   "file_extension": ".py",
   "mimetype": "text/x-python",
   "name": "python",
   "nbconvert_exporter": "python",
   "pygments_lexer": "ipython3",
   "version": "3.8.5"
  }
 },
 "nbformat": 4,
 "nbformat_minor": 4
}
