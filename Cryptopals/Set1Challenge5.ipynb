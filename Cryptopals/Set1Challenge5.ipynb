{
 "cells": [
  {
   "cell_type": "code",
   "execution_count": 2,
   "metadata": {},
   "outputs": [
    {
     "name": "stdout",
     "output_type": "stream",
     "text": [
      "Encrypted message: 0b3637272a2b2e63622c2e69692a23693a2a3c6324202d623d63343c2a26226324272765272a282b2f20430a652e2c652a3124333a653e2b2027630c692b20283165286326302e27282f\n"
     ]
    }
   ],
   "source": [
    "#Implement repeating-key XOR\n",
    "#Cryptopals Set 1 challenge 5\n",
    "\n",
    "def repeating_key_xor(plaintext, key):\n",
    "    ciphertext = bytearray()\n",
    "    key_length = len(key)\n",
    "\n",
    "    for i, byte in enumerate(plaintext):\n",
    "        key_byte = key[i % key_length]\n",
    "        encrypted_byte = byte ^ ord(key_byte)\n",
    "        ciphertext.append(encrypted_byte)\n",
    "\n",
    "    return ciphertext.hex()\n",
    "\n",
    "\n",
    "plaintext = '''Burning 'em, if you ain't quick and nimble\n",
    "I go crazy when I hear a cymbal'''\n",
    "\n",
    "key = \"ICE\"\n",
    "ciphertext = repeating_key_xor(plaintext.encode(), key)\n",
    "print(\"Encrypted message:\", ciphertext)"
   ]
  },
  {
   "cell_type": "code",
   "execution_count": null,
   "metadata": {},
   "outputs": [],
   "source": []
  }
 ],
 "metadata": {
  "kernelspec": {
   "display_name": "Python 3",
   "language": "python",
   "name": "python3"
  },
  "language_info": {
   "codemirror_mode": {
    "name": "ipython",
    "version": 3
   },
   "file_extension": ".py",
   "mimetype": "text/x-python",
   "name": "python",
   "nbconvert_exporter": "python",
   "pygments_lexer": "ipython3",
   "version": "3.8.5"
  }
 },
 "nbformat": 4,
 "nbformat_minor": 4
}
