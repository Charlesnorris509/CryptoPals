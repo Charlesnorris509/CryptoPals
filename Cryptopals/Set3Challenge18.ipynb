{
 "cells": [
  {
   "cell_type": "code",
   "execution_count": null,
   "metadata": {},
   "outputs": [],
   "source": [
    "import struct\n",
    "from base64 import b64decode\n",
    "from S2C10 import aes_ecb_encrypt, xor_data\n",
    "from Crypto.Cipher import AES\n",
    "\n",
    "def aes_ctr(data, key, nonce):\n",
    "    \"\"\"Encrypts or decrypts with AES-CTR mode.\"\"\"\n",
    "    output = b''\n",
    "    counter = 0\n",
    "    while data:\n",
    "        concatenated_nonce_and_counter = struct.pack('<QQ', nonce, counter)\n",
    "        encrypted_counter = aes_ecb_encrypt(concatenated_nonce_and_counter, key)\n",
    "        output += xor_data(encrypted_counter, data[:AES.block_size])\n",
    "        data = data[AES.block_size:]\n",
    "        counter += 1\n",
    "    return output\n",
    "\n",
    "\n",
    "def main():\n",
    "\n",
    "    # Check if the AES CTR encryption / decryption works correctly with the given example\n",
    "    ciphertext = b64decode(\"L77na/nrFsKvynd6HzOoG7GHTLXsTVu9qvY/2syLXzhPweyyMTJULu/6/kXX0KSvoOLSFQ==\")\n",
    "    assert aes_ctr(ciphertext, b'YELLOW SUBMARINE', 0) == b\"Yo, VIP Let's kick it Ice, Ice, baby Ice, Ice, baby \"\n",
    "\n",
    "    # Check if it works also for a custom case\n",
    "    message = b'Hey hello this is a test'\n",
    "    key = b'A key of 8 bytes'\n",
    "    nonce = 15\n",
    "    assert aes_ctr(aes_ctr(message, key, nonce), key, nonce) == message\n",
    "\n",
    "\n",
    "if __name__ == '__main__':\n",
    "    main()"
   ]
  }
 ],
 "metadata": {
  "kernelspec": {
   "display_name": "Python 3",
   "language": "python",
   "name": "python3"
  },
  "language_info": {
   "codemirror_mode": {
    "name": "ipython",
    "version": 3
   },
   "file_extension": ".py",
   "mimetype": "text/x-python",
   "name": "python",
   "nbconvert_exporter": "python",
   "pygments_lexer": "ipython3",
   "version": "3.8.5"
  }
 },
 "nbformat": 4,
 "nbformat_minor": 4
}
