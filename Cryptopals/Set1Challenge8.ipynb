{
 "cells": [
  {
   "cell_type": "code",
   "execution_count": null,
   "metadata": {},
   "outputs": [],
   "source": [
    "from Crypto.Cipher.AES import block_size\n",
    "\n",
    "def count_aes_ecb_repetitions(text):\n",
    "    chunks = [text[i:i + block_size] for i in range(0, len(text), block_size)]\n",
    "    number_of_duplicates = len(chunks) - len(set(chunks))\n",
    "    return number_of_duplicates\n",
    "\n",
    "\n",
    "def detect_ecb_encrypted_text(texts):\n",
    "    best = (-1, 0)     # index of best candidate, repetitions of best candidate\n",
    "\n",
    "    # For each text\n",
    "    for i in range(len(texts)):\n",
    "\n",
    "        # Count the block repetitions\n",
    "        repetitions = count_aes_ecb_repetitions(texts[i])\n",
    "\n",
    "        # Keep the text with most repetitions\n",
    "        best = max(best, (i, repetitions), key=lambda t: t[1])\n",
    "\n",
    "    # Return the text with most repetitions\n",
    "    return best\n",
    "\n",
    "\n",
    "def main():\n",
    "    texts = [bytes.fromhex(line.strip()) for line in open(\"S1C08_input.txt\")]\n",
    "    result = detect_ecb_encrypted_text(texts)\n",
    "\n",
    "    # Compute and print the text which was encrypted with AES-ECB\n",
    "    print(\"The text encrypted in ECB mode is the one at position\", result[0],\n",
    "          \"which contains\", result[1], \"repetitions\")\n",
    "\n",
    "    # Check that the detection works correctly\n",
    "    assert result[0] == 132\n",
    "\n",
    "\n",
    "if __name__ == \"__main__\":\n",
    "    main()"
   ]
  }
 ],
 "metadata": {
  "kernelspec": {
   "display_name": "Python 3",
   "language": "python",
   "name": "python3"
  },
  "language_info": {
   "codemirror_mode": {
    "name": "ipython",
    "version": 3
   },
   "file_extension": ".py",
   "mimetype": "text/x-python",
   "name": "python",
   "nbconvert_exporter": "python",
   "pygments_lexer": "ipython3",
   "version": "3.8.5"
  }
 },
 "nbformat": 4,
 "nbformat_minor": 4
}
