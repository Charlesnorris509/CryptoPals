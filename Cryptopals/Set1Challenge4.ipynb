{
 "cells": [
  {
   "cell_type": "code",
   "execution_count": 11,
   "metadata": {},
   "outputs": [
    {
     "name": "stdout",
     "output_type": "stream",
     "text": [
      "Now that the party is jumping \tScore: 2.09 \tKey: 5\n"
     ]
    }
   ],
   "source": [
    "from S1C03 import singlechar_xor_brute_force, pretty_print_result\n",
    "\n",
    "\n",
    "def detect_encrypted_text(encrypted_strings):\n",
    "    \"\"\"Performs a singlechar XOR brute force attack to every ciphertext of the input, gets a plaintext\n",
    "    from each of the ciphertexts and returns the decrypted plaintext which has the highest English score.\n",
    "    \"\"\"\n",
    "    candidates = []\n",
    "\n",
    "    for string in encrypted_strings:\n",
    "        candidates.append(singlechar_xor_brute_force(string))\n",
    "\n",
    "    # Return the candidate with the highest English score\n",
    "    return sorted(candidates, key=lambda c: c['score'], reverse=True)[0]\n",
    "\n",
    "\n",
    "def main():\n",
    "    ciphertexts = [bytes.fromhex(line.strip()) for line in open(\"S1C04_input.txt\")]\n",
    "    most_likely_plaintext = detect_encrypted_text(ciphertexts)\n",
    "    pretty_print_result(most_likely_plaintext)\n",
    "\n",
    "    # Check that the attack works properly\n",
    "    assert most_likely_plaintext['plaintext'].rstrip() == b\"Now that the party is jumping\"\n",
    "\n",
    "if __name__ == \"__main__\":\n",
    "    main()"
   ]
  }
 ],
 "metadata": {
  "kernelspec": {
   "display_name": "Python 3",
   "language": "python",
   "name": "python3"
  },
  "language_info": {
   "codemirror_mode": {
    "name": "ipython",
    "version": 3
   },
   "file_extension": ".py",
   "mimetype": "text/x-python",
   "name": "python",
   "nbconvert_exporter": "python",
   "pygments_lexer": "ipython3",
   "version": "3.8.5"
  }
 },
 "nbformat": 4,
 "nbformat_minor": 4
}
