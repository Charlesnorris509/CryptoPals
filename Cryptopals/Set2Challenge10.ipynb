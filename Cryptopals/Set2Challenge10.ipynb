{
 "cells": [
  {
   "cell_type": "code",
   "execution_count": 1,
   "metadata": {},
   "outputs": [
    {
     "ename": "ModuleNotFoundError",
     "evalue": "No module named 'Crypto'",
     "output_type": "error",
     "traceback": [
      "\u001b[1;31m---------------------------------------------------------------------------\u001b[0m",
      "\u001b[1;31mModuleNotFoundError\u001b[0m                       Traceback (most recent call last)",
      "\u001b[1;32m<ipython-input-1-b74c90a82166>\u001b[0m in \u001b[0;36m<module>\u001b[1;34m\u001b[0m\n\u001b[0;32m      1\u001b[0m \u001b[1;32mfrom\u001b[0m \u001b[0mbase64\u001b[0m \u001b[1;32mimport\u001b[0m \u001b[0mb64decode\u001b[0m\u001b[1;33m\u001b[0m\u001b[1;33m\u001b[0m\u001b[0m\n\u001b[1;32m----> 2\u001b[1;33m \u001b[1;32mfrom\u001b[0m \u001b[0mCrypto\u001b[0m\u001b[1;33m.\u001b[0m\u001b[0mcipher\u001b[0m \u001b[1;32mimport\u001b[0m \u001b[0mAES\u001b[0m\u001b[1;33m\u001b[0m\u001b[1;33m\u001b[0m\u001b[0m\n\u001b[0m\u001b[0;32m      3\u001b[0m \u001b[1;32mfrom\u001b[0m \u001b[0mS2C09\u001b[0m \u001b[1;32mimport\u001b[0m \u001b[0mpkcs7_pad\u001b[0m\u001b[1;33m,\u001b[0m \u001b[0mpkcs7_unpad\u001b[0m\u001b[1;33m\u001b[0m\u001b[1;33m\u001b[0m\u001b[0m\n\u001b[0;32m      4\u001b[0m \u001b[1;32mfrom\u001b[0m \u001b[0mS1C07\u001b[0m \u001b[1;32mimport\u001b[0m \u001b[0maes_ecb_decrypt\u001b[0m\u001b[1;33m\u001b[0m\u001b[1;33m\u001b[0m\u001b[0m\n\u001b[0;32m      5\u001b[0m \u001b[1;33m\u001b[0m\u001b[0m\n",
      "\u001b[1;31mModuleNotFoundError\u001b[0m: No module named 'Crypto'"
     ]
    }
   ],
   "source": [
    "from base64 import b64decode\n",
    "from Crypto.cipher import AES\n",
    "from S2C09 import pkcs7_pad, pkcs7_unpad\n",
    "from S1C07 import aes_ecb_decrypt\n",
    "\n",
    "def aes_ecb_encrypt(data, key):\n",
    "    cipher = AES.new(key, AES.MODE_ECB)\n",
    "    return cipher.encrypt(pkcs7_pad(data, AES.block_size))\n",
    "\n",
    "\n",
    "def xor_data(binary_data_1, binary_data_2):\n",
    "    return bytes([b1 ^ b2 for b1, b2 in zip(binary_data_1, binary_data_2)])\n",
    "\n",
    "\n",
    "def aes_cbc_encrypt(data, key, iv):\n",
    "    ciphertext = b''\n",
    "    prev = iv\n",
    "\n",
    "    # Process the encryption block by block\n",
    "    for i in range(0, len(data), AES.block_size):\n",
    "\n",
    "        # Always PKCS 7 pad the current plaintext block before proceeding\n",
    "        curr_plaintext_block = pkcs7_pad(data[i:i + AES.block_size], AES.block_size)\n",
    "        block_cipher_input = xor_data(curr_plaintext_block, prev)\n",
    "        encrypted_block = aes_ecb_encrypt(block_cipher_input, key)\n",
    "        ciphertext += encrypted_block\n",
    "        prev = encrypted_block\n",
    "\n",
    "    return ciphertext\n",
    "\n",
    "\n",
    "def aes_cbc_decrypt(data, key, iv, unpad=True):\n",
    "    plaintext = b''\n",
    "    prev = iv\n",
    "\n",
    "    # Process the decryption block by block\n",
    "    for i in range(0, len(data), AES.block_size):\n",
    "        curr_ciphertext_block = data[i:i + AES.block_size]\n",
    "        decrypted_block = aes_ecb_decrypt(curr_ciphertext_block, key)\n",
    "        plaintext += xor_data(prev, decrypted_block)\n",
    "        prev = curr_ciphertext_block\n",
    "\n",
    "    # Return the plaintext either unpadded or left with the padding depending on the unpad flag\n",
    "    return pkcs7_unpad(plaintext) if unpad else plaintext\n",
    "\n",
    "\n",
    "def main():\n",
    "    iv = b'\\x00' * AES.block_size\n",
    "    key = b'YELLOW SUBMARINE'\n",
    "    with open(\"S2C10_input.txt\") as input_file:\n",
    "        binary_data = b64decode(input_file.read())\n",
    "\n",
    "    print(aes_cbc_decrypt(binary_data, key, iv).decode().rstrip())\n",
    "    custom_input = b'Trying to decrypt something else to see if it works.'\n",
    "    assert aes_cbc_decrypt(aes_cbc_encrypt(custom_input, key, iv), key, iv) == custom_input\n",
    "\n",
    "if __name__ == '__main__':\n",
    "    main()"
   ]
  },
  {
   "cell_type": "code",
   "execution_count": null,
   "metadata": {},
   "outputs": [],
   "source": []
  }
 ],
 "metadata": {
  "kernelspec": {
   "display_name": "Python 3",
   "language": "python",
   "name": "python3"
  },
  "language_info": {
   "codemirror_mode": {
    "name": "ipython",
    "version": 3
   },
   "file_extension": ".py",
   "mimetype": "text/x-python",
   "name": "python",
   "nbconvert_exporter": "python",
   "pygments_lexer": "ipython3",
   "version": "3.8.5"
  }
 },
 "nbformat": 4,
 "nbformat_minor": 4
}
